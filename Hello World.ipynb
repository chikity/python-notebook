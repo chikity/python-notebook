{
 "cells": [
  {
   "cell_type": "markdown",
   "metadata": {},
   "source": [
    "## Things to note\n",
    "\n",
    "Calling main()\n",
    "```python\n",
    "if __name__ == \"__main__\":\n",
    "```\n",
    "\n",
    "MySQL Database connection\n",
    "```python\n",
    "import _mysql\n",
    "atis304 = _mysql.connect(host=\"localhost\",user=\"root\",passwd=\"Jinpa002\",db=\"atis304\")\n",
    "\n",
    "atis304.query(\"\"\"SELECT COUNT(1) FROM workcenters\"\"\")\n",
    "\n",
    "test = atis304.store_result()\n",
    "test.fetch_row(maxrows = 5, how = 1)\n",
    "```\n",
    "\n",
    "\\_mysql always returns data as string, may need to convert to other datatypes when using\n",
    "#### fetch_row()  Parameters:\n",
    "_maxrows, how_\n",
    "\n",
    "* maxrows specify the maximum number of rows returned\n",
    "* how 0 = default | Returns data as a tuple\n",
    "* how 1 = as dictionary | includes the column name\n",
    "* how 2 = how 1 | includes table.column name\n",
    "\n",
    "\n",
    "### Rules\n",
    "* No curly brackets, instead use indentation\n",
    "* Semi-colons! :::::"
   ]
  },
  {
   "cell_type": "code",
   "execution_count": 30,
   "metadata": {
    "scrolled": true
   },
   "outputs": [
    {
     "data": {
      "text/plain": [
       "(('63', b'w16', b'Welding (Laser)', b'welding_cnc@jinpao.co.th', '1'),\n",
       " ('62', b'w36', b'Milling CAM', None, '1'),\n",
       " ('61', b'w35', b'Welding Steel', b'welding_cnc@jinpao.co.th', '1'))"
      ]
     },
     "execution_count": 30,
     "metadata": {},
     "output_type": "execute_result"
    }
   ],
   "source": [
    "import _mysql\n",
    "import sklearn\n",
    "\n",
    "atis304 = _mysql.connect(host=\"localhost\",user=\"root\",passwd=\"Jinpa002\",db=\"atis304\")\n",
    "\n",
    "atis304.query(\"\"\"SELECT * FROM workcenters\n",
    "                 ORDER BY id DESC\n",
    "                 \"\"\")\n",
    "\n",
    "test = atis304.store_result()\n",
    "test.fetch_row(maxrows=3, how=0)"
   ]
  },
  {
   "cell_type": "code",
   "execution_count": 1,
   "metadata": {},
   "outputs": [
    {
     "name": "stdout",
     "output_type": "stream",
     "text": [
      "Give me a number, please.\n",
      "33\n",
      "here's what you typed\n",
      "33.0\n"
     ]
    }
   ],
   "source": [
    "def main():\n",
    "    print(\"here\\'s what you typed\")\n",
    "    print(x)\n",
    "\n",
    "def input_float(prompt):\n",
    "    while True:\n",
    "        try:\n",
    "            return float(input(prompt))\n",
    "        except ValueError:\n",
    "            print(\"not a number\")\n",
    "\n",
    "x = input_float(\"Give me a number, please.\\n\")\n",
    "            \n",
    "if __name__ == \"__main__\":\n",
    "    main()"
   ]
  },
  {
   "cell_type": "code",
   "execution_count": 46,
   "metadata": {},
   "outputs": [
    {
     "data": {
      "text/plain": [
       "[1, 2, 4, 5, 10]"
      ]
     },
     "execution_count": 46,
     "metadata": {},
     "output_type": "execute_result"
    }
   ],
   "source": [
    "list = [1,2,3,4,5]\n",
    "list2 = [6,7,8,9,0]\n",
    "\n",
    "\n",
    "list.append(10)\n",
    "list.pop(2)\n",
    "list"
   ]
  }
 ],
 "metadata": {
  "kernelspec": {
   "display_name": "Python 3",
   "language": "python",
   "name": "python3"
  },
  "language_info": {
   "codemirror_mode": {
    "name": "ipython",
    "version": 3
   },
   "file_extension": ".py",
   "mimetype": "text/x-python",
   "name": "python",
   "nbconvert_exporter": "python",
   "pygments_lexer": "ipython3",
   "version": "3.6.1"
  }
 },
 "nbformat": 4,
 "nbformat_minor": 2
}
