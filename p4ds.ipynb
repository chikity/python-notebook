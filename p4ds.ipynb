{
 "cells": [
  {
   "cell_type": "markdown",
   "metadata": {},
   "source": [
    "# Python for Data Science \n",
    "## Notebook\n",
    "\n",
    "---\n",
    "### Basic structure\n",
    "\n",
    "```python\n",
    "def main():\n",
    "    # You code here\n",
    "    \n",
    "if __name__ == \"__main__\":\n",
    "    main()\n",
    "```\n",
    "### Notes\n",
    "\n",
    "* Use ```dir()``` to view related objects.\n",
    "\n",
    "Example:\n",
    "```python\n",
    "dir(set)\n",
    "```\n",
    "\n",
    "Lists, Tuples, Dict:\n",
    "* [] for lists\n",
    "* () for tuples\n",
    "* {} for dictionaries"
   ]
  },
  {
   "cell_type": "code",
   "execution_count": 2,
   "metadata": {},
   "outputs": [
    {
     "name": "stdout",
     "output_type": "stream",
     "text": [
      "Type a number between 1 and 10: 10\n",
      "Type a number between 1 and 10: 11\n",
      "Incorrect second value!\n",
      "Try again!\n",
      "Type a number between 1 and 10: 1\n",
      "Type a number between 1 and 10: 1\n",
      "Your secret number is: 0\n",
      "it works!\n"
     ]
    }
   ],
   "source": [
    "def main():\n",
    "    SecretNumber()\n",
    "    print('It works!')\n",
    "    \n",
    "def SecretNumber():  # loops\n",
    "    GotIt = False\n",
    "    while GotIt == False:\n",
    "        One = int(input(\"Type a number between 1 and 10: \"))\n",
    "        Two = int(input(\"Type a number between 1 and 10: \"))\n",
    "\n",
    "        if (One >= 1) and (One <= 10):\n",
    "            if (Two >= 1) and (Two <= 10):\n",
    "                print('Your secret number is: ' + str(One%Two))\n",
    "                GotIt = True\n",
    "                continue\n",
    "            else:\n",
    "                print('Incorrect second value!')\n",
    "        else:\n",
    "            print(\"Incorrect first value!\")\n",
    "        print(\"Try again!\")\n",
    "        \n",
    "def DisplayMulti(*x):\n",
    "    for x in x:\n",
    "        if x.upper() == 'CONT':\n",
    "            continue\n",
    "            print('Continue Argument: ' + x)\n",
    "        elif x.upper() == 'BREAK':\n",
    "            break\n",
    "            print('Break Argument: ' + x)\n",
    "        print('Good Argument: ' + x.upper())\n",
    "        \n",
    "if __name__ == \"__main__\":\n",
    "    main()"
   ]
  },
  {
   "cell_type": "code",
   "execution_count": 24,
   "metadata": {},
   "outputs": [
    {
     "name": "stdout",
     "output_type": "stream",
     "text": [
      "{'Green', 'Yellow', 'Orange', 'Blue', 'Red', 'Black'}\n",
      "{'Green', 'Black'}\n",
      "{'Red', 'Blue'}\n",
      "{'Yellow', 'Orange'}\n"
     ]
    }
   ],
   "source": [
    "# from sets import Set\n",
    "def main():\n",
    "    SetA = set(['Red','Blue','Green','Black'])\n",
    "    SetB = set(['Black','Green','Yellow','Orange'])\n",
    "    SetX = SetA.union(SetB)\n",
    "    SetY = SetA.intersection(SetB)\n",
    "    SetZ = SetA.difference(SetB)\n",
    "    SetD = SetB.difference(SetA)\n",
    "    \n",
    "    print('{0}\\n{1}\\n{2}\\n{3}'.format(SetX,SetY,SetZ,SetD))  # {} are used as placeholders for strings, format() defines what objects to place within placeholder \n",
    "   \n",
    "\n",
    "if __name__ == \"__main__\":\n",
    "    main()"
   ]
  },
  {
   "cell_type": "code",
   "execution_count": 28,
   "metadata": {},
   "outputs": [
    {
     "data": {
      "text/plain": [
       "[0, 1, 2, 3, 4, 5, 6, 7]"
      ]
     },
     "execution_count": 28,
     "metadata": {},
     "output_type": "execute_result"
    }
   ],
   "source": [
    "# play with lists\n",
    "\n",
    "ListA = [0,1,2,3]\n",
    "ListB = [4,5,6,7]\n",
    "\n",
    "ListA.extend(ListB)\n",
    "ListA"
   ]
  },
  {
   "cell_type": "code",
   "execution_count": 29,
   "metadata": {},
   "outputs": [
    {
     "name": "stdout",
     "output_type": "stream",
     "text": [
      "1\n",
      "2\n",
      "3\n",
      "\t 4\n",
      "\t 5\n",
      "\t 6\n",
      "\t\t 7\n",
      "\t\t 8\n",
      "\t\t 9\n",
      "\t 10\n",
      "\t 11\n",
      "\t 12\n",
      "\t\t 13\n",
      "\t\t 14\n",
      "\t\t 15\n"
     ]
    }
   ],
   "source": [
    "# play with tuples\n",
    "def main():\n",
    "    TupleA = (1,2,3,(4,5,6,(7,8,9)))\n",
    "    TupleB = TupleA.__add__(('',(10,11,12,(13,14,15))))\n",
    "    \n",
    "    HeirarchyTest(TupleB)\n",
    "    # print(TupleA)\n",
    "    \n",
    "def HeirarchyTest(myTuple):\n",
    "    for Value1 in myTuple:\n",
    "        if type(Value1) == int:\n",
    "            print(Value1)\n",
    "        else:\n",
    "            for Value2 in Value1:\n",
    "                if type(Value2) == int:\n",
    "                    print(\"\\t\", Value2)\n",
    "                else:\n",
    "                    for Value3 in Value2:\n",
    "                        if type(Value3) == int:\n",
    "                            print(\"\\t\\t\", Value3)\n",
    "\n",
    "if __name__ == \"__main__\":\n",
    "    main()"
   ]
  },
  {
   "cell_type": "code",
   "execution_count": 46,
   "metadata": {},
   "outputs": [
    {
     "name": "stdout",
     "output_type": "stream",
     "text": [
      "Orange \t 1\n",
      "Yellow \t 2\n",
      "Green \t 3\n",
      "Brown \t 4\n"
     ]
    },
    {
     "data": {
      "text/plain": [
       "dict_keys(['Orange', 'Yellow', 'Green', 'Brown'])"
      ]
     },
     "execution_count": 46,
     "metadata": {},
     "output_type": "execute_result"
    }
   ],
   "source": [
    "# lists\n",
    "\n",
    "A = ['Orange','Yellow','Green','Brown']\n",
    "B = [1,2,3,4]\n",
    "C = {'Orange':1,'Yellow':2,'Green':3,'Brown':4}\n",
    "\n",
    "for x,y in zip(A,B):\n",
    "    print(x, '\\t', y)\n",
    "\n",
    "C.keys()"
   ]
  },
  {
   "cell_type": "code",
   "execution_count": 60,
   "metadata": {},
   "outputs": [
    {
     "name": "stdout",
     "output_type": "stream",
     "text": [
      "You passed 3 arguments. ('this is flawed',)\n"
     ]
    }
   ],
   "source": [
    "def DisplayMulti(ArgCount = 0, *VarArgs):\n",
    "    print('You passed ' + str(ArgCount) + ' arguments.', VarArgs)\n",
    "    \n",
    "DisplayMulti(3, 'this is flawed')"
   ]
  },
  {
   "cell_type": "code",
   "execution_count": null,
   "metadata": {
    "collapsed": true
   },
   "outputs": [],
   "source": [
    "def DisplayMulti(*VarArgs):\n",
    "    for Arg in VarArgs:\n",
    "        if Arg.upper() == 'CONT':\n",
    "            continue\n",
    "            print('Continue Argument: ' + Arg)\n",
    "        elif Arg.upper() == 'BREAK':\n",
    "            break\n",
    "            print('Break Argument: ' + Arg)\n",
    "        print('Good Argument: ' + Arg)\n",
    "        \n",
    "DisplayMulti('test')"
   ]
  }
 ],
 "metadata": {
  "kernelspec": {
   "display_name": "Python 3",
   "language": "python",
   "name": "python3"
  },
  "language_info": {
   "codemirror_mode": {
    "name": "ipython",
    "version": 3
   },
   "file_extension": ".py",
   "mimetype": "text/x-python",
   "name": "python",
   "nbconvert_exporter": "python",
   "pygments_lexer": "ipython3",
   "version": "3.6.1"
  }
 },
 "nbformat": 4,
 "nbformat_minor": 2
}
